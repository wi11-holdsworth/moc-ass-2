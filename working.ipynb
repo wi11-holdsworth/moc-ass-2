{
 "cells": [
  {
   "cell_type": "code",
   "execution_count": 25,
   "metadata": {},
   "outputs": [
    {
     "ename": "KeyboardInterrupt",
     "evalue": "",
     "output_type": "error",
     "traceback": [
      "\u001b[0;31m---------------------------------------------------------------------------\u001b[0m",
      "\u001b[0;31mKeyboardInterrupt\u001b[0m                         Traceback (most recent call last)",
      "Cell \u001b[0;32mIn[25], line 33\u001b[0m\n\u001b[1;32m      8\u001b[0m \u001b[38;5;28;01mdef\u001b[39;00m \u001b[38;5;21mq3a\u001b[39m() \u001b[38;5;241m-\u001b[39m\u001b[38;5;241m>\u001b[39m NPDA:\n\u001b[1;32m      9\u001b[0m     \u001b[38;5;28;01mreturn\u001b[39;00m NPDA(\n\u001b[1;32m     10\u001b[0m         states\u001b[38;5;241m=\u001b[39m{\u001b[38;5;124m\"\u001b[39m\u001b[38;5;124mq0\u001b[39m\u001b[38;5;124m\"\u001b[39m, \u001b[38;5;124m\"\u001b[39m\u001b[38;5;124mq1\u001b[39m\u001b[38;5;124m\"\u001b[39m, \u001b[38;5;124m\"\u001b[39m\u001b[38;5;124mq2\u001b[39m\u001b[38;5;124m\"\u001b[39m},\n\u001b[1;32m     11\u001b[0m         input_symbols\u001b[38;5;241m=\u001b[39m{\u001b[38;5;124m\"\u001b[39m\u001b[38;5;124ma\u001b[39m\u001b[38;5;124m\"\u001b[39m, \u001b[38;5;124m\"\u001b[39m\u001b[38;5;124mb\u001b[39m\u001b[38;5;124m\"\u001b[39m},\n\u001b[0;32m   (...)\u001b[0m\n\u001b[1;32m     30\u001b[0m         final_states\u001b[38;5;241m=\u001b[39m{\u001b[38;5;124m\"\u001b[39m\u001b[38;5;124mq2\u001b[39m\u001b[38;5;124m\"\u001b[39m},\n\u001b[1;32m     31\u001b[0m     )\n\u001b[0;32m---> 33\u001b[0m \u001b[43mq3a\u001b[49m\u001b[43m(\u001b[49m\u001b[43m)\u001b[49m\u001b[38;5;241;43m.\u001b[39;49m\u001b[43maccepts_input\u001b[49m\u001b[43m(\u001b[49m\u001b[38;5;124;43m\"\u001b[39;49m\u001b[38;5;124;43mb\u001b[39;49m\u001b[38;5;124;43m\"\u001b[39;49m\u001b[43m)\u001b[49m\n",
      "File \u001b[0;32m~/code/moc-ass-2/.venv/lib/python3.12/site-packages/automata/base/automaton.py:210\u001b[0m, in \u001b[0;36mAutomaton.accepts_input\u001b[0;34m(self, input_str)\u001b[0m\n\u001b[1;32m    196\u001b[0m \u001b[38;5;250m\u001b[39m\u001b[38;5;124;03m\"\"\"\u001b[39;00m\n\u001b[1;32m    197\u001b[0m \u001b[38;5;124;03mReturn True if this automaton accepts the given input.\u001b[39;00m\n\u001b[1;32m    198\u001b[0m \n\u001b[0;32m   (...)\u001b[0m\n\u001b[1;32m    207\u001b[0m \u001b[38;5;124;03m    True if this automaton accepts the given input; False otherwise.\u001b[39;00m\n\u001b[1;32m    208\u001b[0m \u001b[38;5;124;03m\"\"\"\u001b[39;00m\n\u001b[1;32m    209\u001b[0m \u001b[38;5;28;01mtry\u001b[39;00m:\n\u001b[0;32m--> 210\u001b[0m     \u001b[38;5;28;43mself\u001b[39;49m\u001b[38;5;241;43m.\u001b[39;49m\u001b[43mread_input\u001b[49m\u001b[43m(\u001b[49m\u001b[43minput_str\u001b[49m\u001b[43m)\u001b[49m\n\u001b[1;32m    211\u001b[0m     \u001b[38;5;28;01mreturn\u001b[39;00m \u001b[38;5;28;01mTrue\u001b[39;00m\n\u001b[1;32m    212\u001b[0m \u001b[38;5;28;01mexcept\u001b[39;00m exceptions\u001b[38;5;241m.\u001b[39mRejectionException:\n",
      "File \u001b[0;32m~/code/moc-ass-2/.venv/lib/python3.12/site-packages/automata/base/automaton.py:191\u001b[0m, in \u001b[0;36mAutomaton.read_input\u001b[0;34m(self, input_str)\u001b[0m\n\u001b[1;32m    175\u001b[0m \u001b[38;5;250m\u001b[39m\u001b[38;5;124;03m\"\"\"\u001b[39;00m\n\u001b[1;32m    176\u001b[0m \u001b[38;5;124;03mCheck if the given string is accepted by this automaton.\u001b[39;00m\n\u001b[1;32m    177\u001b[0m \n\u001b[0;32m   (...)\u001b[0m\n\u001b[1;32m    188\u001b[0m \u001b[38;5;124;03m    The final configuration of the automaton after reading the input.\u001b[39;00m\n\u001b[1;32m    189\u001b[0m \u001b[38;5;124;03m\"\"\"\u001b[39;00m\n\u001b[1;32m    190\u001b[0m \u001b[38;5;66;03m# \"Fast-forward\" generator to get its final value\u001b[39;00m\n\u001b[0;32m--> 191\u001b[0m \u001b[43m\u001b[49m\u001b[38;5;28;43;01mfor\u001b[39;49;00m\u001b[43m \u001b[49m\u001b[43mconfig\u001b[49m\u001b[43m \u001b[49m\u001b[38;5;129;43;01min\u001b[39;49;00m\u001b[43m \u001b[49m\u001b[38;5;28;43mself\u001b[39;49m\u001b[38;5;241;43m.\u001b[39;49m\u001b[43mread_input_stepwise\u001b[49m\u001b[43m(\u001b[49m\u001b[43minput_str\u001b[49m\u001b[43m)\u001b[49m\u001b[43m:\u001b[49m\n\u001b[1;32m    192\u001b[0m \u001b[43m    \u001b[49m\u001b[38;5;28;43;01mpass\u001b[39;49;00m\n\u001b[1;32m    193\u001b[0m \u001b[38;5;28;01mreturn\u001b[39;00m config\n",
      "File \u001b[0;32m~/code/moc-ass-2/.venv/lib/python3.12/site-packages/automata/pda/npda.py:274\u001b[0m, in \u001b[0;36mNPDA.read_input_stepwise\u001b[0;34m(self, input_str)\u001b[0m\n\u001b[1;32m    272\u001b[0m         new_configurations\u001b[38;5;241m.\u001b[39mupdate(\u001b[38;5;28mself\u001b[39m\u001b[38;5;241m.\u001b[39m_get_next_configurations(config))\n\u001b[1;32m    273\u001b[0m     \u001b[38;5;28;01melif\u001b[39;00m \u001b[38;5;28mself\u001b[39m\u001b[38;5;241m.\u001b[39m_has_lambda_transition(config\u001b[38;5;241m.\u001b[39mstate, config\u001b[38;5;241m.\u001b[39mstack\u001b[38;5;241m.\u001b[39mtop()):\n\u001b[0;32m--> 274\u001b[0m         new_configurations\u001b[38;5;241m.\u001b[39mupdate(\u001b[38;5;28;43mself\u001b[39;49m\u001b[38;5;241;43m.\u001b[39;49m\u001b[43m_get_next_configurations\u001b[49m\u001b[43m(\u001b[49m\u001b[43mconfig\u001b[49m\u001b[43m)\u001b[49m)\n\u001b[1;32m    275\u001b[0m current_configurations \u001b[38;5;241m=\u001b[39m new_configurations\n\u001b[1;32m    276\u001b[0m \u001b[38;5;28;01myield\u001b[39;00m current_configurations\n",
      "File \u001b[0;32m~/code/moc-ass-2/.venv/lib/python3.12/site-packages/automata/pda/npda.py:194\u001b[0m, in \u001b[0;36mNPDA._get_next_configurations\u001b[0;34m(self, old_config)\u001b[0m\n\u001b[1;32m    189\u001b[0m     \u001b[38;5;28;01mif\u001b[39;00m input_symbol:\n\u001b[1;32m    190\u001b[0m         remaining_input \u001b[38;5;241m=\u001b[39m remaining_input[\u001b[38;5;241m1\u001b[39m:]\n\u001b[1;32m    191\u001b[0m     new_config \u001b[38;5;241m=\u001b[39m PDAConfiguration(\n\u001b[1;32m    192\u001b[0m         new_state,\n\u001b[1;32m    193\u001b[0m         remaining_input,\n\u001b[0;32m--> 194\u001b[0m         \u001b[38;5;28;43mself\u001b[39;49m\u001b[38;5;241;43m.\u001b[39;49m\u001b[43m_replace_stack_top\u001b[49m\u001b[43m(\u001b[49m\u001b[43mold_config\u001b[49m\u001b[38;5;241;43m.\u001b[39;49m\u001b[43mstack\u001b[49m\u001b[43m,\u001b[49m\u001b[43m \u001b[49m\u001b[43mnew_stack_top\u001b[49m\u001b[43m)\u001b[49m,\n\u001b[1;32m    195\u001b[0m     )\n\u001b[1;32m    196\u001b[0m     new_configs\u001b[38;5;241m.\u001b[39madd(new_config)\n\u001b[1;32m    197\u001b[0m \u001b[38;5;28;01mreturn\u001b[39;00m new_configs\n",
      "File \u001b[0;32m~/code/moc-ass-2/.venv/lib/python3.12/site-packages/automata/pda/pda.py:456\u001b[0m, in \u001b[0;36mPDA._replace_stack_top\u001b[0;34m(self, stack, new_stack_top)\u001b[0m\n\u001b[1;32m    454\u001b[0m     new_stack \u001b[38;5;241m=\u001b[39m stack\u001b[38;5;241m.\u001b[39mpop()\n\u001b[1;32m    455\u001b[0m \u001b[38;5;28;01melse\u001b[39;00m:\n\u001b[0;32m--> 456\u001b[0m     new_stack \u001b[38;5;241m=\u001b[39m \u001b[43mstack\u001b[49m\u001b[38;5;241;43m.\u001b[39;49m\u001b[43mreplace\u001b[49m\u001b[43m(\u001b[49m\u001b[43mnew_stack_top\u001b[49m\u001b[43m)\u001b[49m\n\u001b[1;32m    457\u001b[0m \u001b[38;5;28;01mreturn\u001b[39;00m new_stack\n",
      "File \u001b[0;32m~/code/moc-ass-2/.venv/lib/python3.12/site-packages/automata/pda/stack.py:62\u001b[0m, in \u001b[0;36mPDAStack.replace\u001b[0;34m(self, symbols)\u001b[0m\n\u001b[1;32m     47\u001b[0m \u001b[38;5;28;01mdef\u001b[39;00m \u001b[38;5;21mreplace\u001b[39m(\u001b[38;5;28mself\u001b[39m, symbols: Sequence[\u001b[38;5;28mstr\u001b[39m]) \u001b[38;5;241m-\u001b[39m\u001b[38;5;241m>\u001b[39m PDAStack:\n\u001b[1;32m     48\u001b[0m \u001b[38;5;250m    \u001b[39m\u001b[38;5;124;03m\"\"\"\u001b[39;00m\n\u001b[1;32m     49\u001b[0m \u001b[38;5;124;03m    Replace the top of the stack with the given symbols.\u001b[39;00m\n\u001b[1;32m     50\u001b[0m \n\u001b[0;32m   (...)\u001b[0m\n\u001b[1;32m     60\u001b[0m \u001b[38;5;124;03m        A copy of the old PDAStack with the top element replaced.\u001b[39;00m\n\u001b[1;32m     61\u001b[0m \u001b[38;5;124;03m    \"\"\"\u001b[39;00m\n\u001b[0;32m---> 62\u001b[0m     \u001b[38;5;28;01mreturn\u001b[39;00m \u001b[38;5;28;43mself\u001b[39;49m\u001b[38;5;241;43m.\u001b[39;49m\u001b[38;5;18;43m__class__\u001b[39;49m\u001b[43m(\u001b[49m\u001b[38;5;28;43mself\u001b[39;49m\u001b[38;5;241;43m.\u001b[39;49m\u001b[43mstack\u001b[49m\u001b[43m[\u001b[49m\u001b[43m:\u001b[49m\u001b[38;5;241;43m-\u001b[39;49m\u001b[38;5;241;43m1\u001b[39;49m\u001b[43m]\u001b[49m\u001b[43m \u001b[49m\u001b[38;5;241;43m+\u001b[39;49m\u001b[43m \u001b[49m\u001b[38;5;28;43mtuple\u001b[39;49m\u001b[43m(\u001b[49m\u001b[38;5;28;43mreversed\u001b[39;49m\u001b[43m(\u001b[49m\u001b[43msymbols\u001b[49m\u001b[43m)\u001b[49m\u001b[43m)\u001b[49m\u001b[43m)\u001b[49m\n",
      "File \u001b[0;32m~/code/moc-ass-2/.venv/lib/python3.12/site-packages/automata/pda/stack.py:18\u001b[0m, in \u001b[0;36mPDAStack.__init__\u001b[0;34m(self, stack)\u001b[0m\n\u001b[1;32m     17\u001b[0m \u001b[38;5;28;01mdef\u001b[39;00m \u001b[38;5;21m__init__\u001b[39m(\u001b[38;5;28mself\u001b[39m, stack: Sequence[\u001b[38;5;28mstr\u001b[39m]) \u001b[38;5;241m-\u001b[39m\u001b[38;5;241m>\u001b[39m \u001b[38;5;28;01mNone\u001b[39;00m:\n\u001b[0;32m---> 18\u001b[0m     \u001b[38;5;28mobject\u001b[39m\u001b[38;5;241m.\u001b[39m\u001b[38;5;21m__setattr__\u001b[39m(\u001b[38;5;28mself\u001b[39m, \u001b[38;5;124m\"\u001b[39m\u001b[38;5;124mstack\u001b[39m\u001b[38;5;124m\"\u001b[39m, \u001b[38;5;28;43mtuple\u001b[39;49m\u001b[43m(\u001b[49m\u001b[43mstack\u001b[49m\u001b[43m)\u001b[49m)\n",
      "\u001b[0;31mKeyboardInterrupt\u001b[0m: "
     ]
    }
   ],
   "source": [
    "from automata.pda.npda import NPDA\n",
    "\n",
    "    # transitions:\n",
    "    # (..., \"\") = pop from the stack\n",
    "    # (X, ...) = push X to the stack\n",
    "    # X: X = no change to the stack\n",
    "\n",
    "def q3a() -> NPDA:\n",
    "    return NPDA(\n",
    "        states={\"q0\", \"q1\", \"q2\", \"q3\"},\n",
    "        input_symbols={\"a\", \"b\"},\n",
    "        stack_symbols={\"#\", \"X\"},\n",
    "        transitions={\n",
    "            \"q0\": {\n",
    "                \"\": {\"#\": {(\"q3\", \"#\")}, \"X\": {(\"q1\", \"X\")}},\n",
    "                \"a\": {\"#\": {(\"q0\", (\"X\", \"#\"))}, \"X\": {(\"q0\", (\"X\", \"X\"))}},\n",
    "                \"b\": {\"#\": {(\"q0\", (\"X\", \"#\"))}, \"X\": {(\"q0\", (\"X\", \"X\"))}},\n",
    "            },\n",
    "            \"q1\": {\n",
    "                \"a\": {\"#\": {(\"q1\", \"\")}, \"X\": {(\"q1\", \"\")}},\n",
    "                \"b\": {\"#\": {(\"q2\", \"\")}, \"X\": {(\"q2\", \"\")}},\n",
    "            },\n",
    "            \"q2\": {\n",
    "                \"a\": {\"#\": {(\"q2\", \"\")}, \"X\": {(\"q2\", \"\")}},\n",
    "                \"b\": {\"#\": {(\"q2\", \"\")}, \"X\": {(\"q2\", \"\")}},\n",
    "            },\n",
    "        },\n",
    "        initial_state=\"q0\",\n",
    "        initial_stack_symbol=\"#\",\n",
    "        final_states={\"q2\"},\n",
    "    )\n",
    "\n",
    "q3a().accepts_input(\"b\")"
   ]
  }
 ],
 "metadata": {
  "kernelspec": {
   "display_name": ".venv",
   "language": "python",
   "name": "python3"
  },
  "language_info": {
   "codemirror_mode": {
    "name": "ipython",
    "version": 3
   },
   "file_extension": ".py",
   "mimetype": "text/x-python",
   "name": "python",
   "nbconvert_exporter": "python",
   "pygments_lexer": "ipython3",
   "version": "3.12.3"
  }
 },
 "nbformat": 4,
 "nbformat_minor": 2
}
